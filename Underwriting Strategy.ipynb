{
  "metadata": {
    "kernelspec": {
      "name": "python",
      "display_name": "Python (Pyodide)",
      "language": "python"
    },
    "language_info": {
      "codemirror_mode": {
        "name": "python",
        "version": 3
      },
      "file_extension": ".py",
      "mimetype": "text/x-python",
      "name": "python",
      "nbconvert_exporter": "python",
      "pygments_lexer": "ipython3",
      "version": "3.8"
    }
  },
  "nbformat_minor": 4,
  "nbformat": 4,
  "cells": [
    {
      "cell_type": "code",
      "source": "import pandas as pd\n\n# Load the uploaded Excel file to analyze the data\nfile_path = 'card_sample.csv'\ncard_data = pd.read_csv(file_path)\n\n# Display the first few rows of the data to understand its structure\ncard_data.head()",
      "metadata": {
        "trusted": true
      },
      "outputs": [
        {
          "execution_count": 2,
          "output_type": "execute_result",
          "data": {
            "text/plain": "       id card_created_at campaign_source     device  credit_limit  \\\n0  856843      2019-01-01      Influencer  messenger           100   \n1  857774      2019-01-01    Facebook Ads  messenger           200   \n2  859512      2019-01-02      Influencer  messenger           500   \n3  861357      2019-01-02      Influencer        ios           200   \n4  862830      2019-01-03    Facebook Ads    android           100   \n\n   risk_model_score  12mth_default  \n0              0.93              0  \n1              0.82              0  \n2              0.74              1  \n3              0.87              0  \n4              0.54              1  ",
            "text/html": "<div>\n<style scoped>\n    .dataframe tbody tr th:only-of-type {\n        vertical-align: middle;\n    }\n\n    .dataframe tbody tr th {\n        vertical-align: top;\n    }\n\n    .dataframe thead th {\n        text-align: right;\n    }\n</style>\n<table border=\"1\" class=\"dataframe\">\n  <thead>\n    <tr style=\"text-align: right;\">\n      <th></th>\n      <th>id</th>\n      <th>card_created_at</th>\n      <th>campaign_source</th>\n      <th>device</th>\n      <th>credit_limit</th>\n      <th>risk_model_score</th>\n      <th>12mth_default</th>\n    </tr>\n  </thead>\n  <tbody>\n    <tr>\n      <th>0</th>\n      <td>856843</td>\n      <td>2019-01-01</td>\n      <td>Influencer</td>\n      <td>messenger</td>\n      <td>100</td>\n      <td>0.93</td>\n      <td>0</td>\n    </tr>\n    <tr>\n      <th>1</th>\n      <td>857774</td>\n      <td>2019-01-01</td>\n      <td>Facebook Ads</td>\n      <td>messenger</td>\n      <td>200</td>\n      <td>0.82</td>\n      <td>0</td>\n    </tr>\n    <tr>\n      <th>2</th>\n      <td>859512</td>\n      <td>2019-01-02</td>\n      <td>Influencer</td>\n      <td>messenger</td>\n      <td>500</td>\n      <td>0.74</td>\n      <td>1</td>\n    </tr>\n    <tr>\n      <th>3</th>\n      <td>861357</td>\n      <td>2019-01-02</td>\n      <td>Influencer</td>\n      <td>ios</td>\n      <td>200</td>\n      <td>0.87</td>\n      <td>0</td>\n    </tr>\n    <tr>\n      <th>4</th>\n      <td>862830</td>\n      <td>2019-01-03</td>\n      <td>Facebook Ads</td>\n      <td>android</td>\n      <td>100</td>\n      <td>0.54</td>\n      <td>1</td>\n    </tr>\n  </tbody>\n</table>\n</div>"
          },
          "metadata": {}
        }
      ],
      "execution_count": 2
    },
    {
      "cell_type": "code",
      "source": "# Let's explore the distribution of the risk_model_score and 12mth_default to understand the default rates at various score levels.\n# This will help in identifying a potential threshold for approval.\n\n# Checking summary statistics for risk_model_score and default rates\nrisk_score_summary = card_data['risk_model_score'].describe()\ndefault_rate_by_score = card_data.groupby('risk_model_score')['12mth_default'].mean()\n\n# Calculate overall default rate as a reference\noverall_default_rate = card_data['12mth_default'].mean()\n\n# Display the summaries\nrisk_score_summary, default_rate_by_score.head(10), overall_default_rate",
      "metadata": {
        "trusted": true
      },
      "outputs": [
        {
          "execution_count": 3,
          "output_type": "execute_result",
          "data": {
            "text/plain": "(count    50000.000000\n mean         0.620306\n std          0.187649\n min          0.300000\n 25%          0.460000\n 50%          0.620000\n 75%          0.780000\n max          0.940000\n Name: risk_model_score, dtype: float64,\n risk_model_score\n 0.30    0.843467\n 0.31    0.789196\n 0.32    0.733164\n 0.33    0.748062\n 0.34    0.835459\n 0.35    0.748021\n 0.36    0.970706\n 0.37    0.933419\n 0.38    0.633822\n 0.39    0.943197\n Name: 12mth_default, dtype: float64,\n 0.63708)"
          },
          "metadata": {}
        }
      ],
      "execution_count": 3
    },
    {
      "cell_type": "code",
      "source": "# Let's examine default rates across a range of risk model score thresholds to find a potential cutoff point\nimport numpy as np\n\n# Define possible thresholds (from 0.3 to 0.9 in increments of 0.05)\nthresholds = np.arange(0.3, 0.95, 0.05)\napproval_rates = []\ndefault_rates = []\nexpected_revenue_per_user = []\n\n# Assume a default interest rate for simplicity, let's use 32%\ninterest_rate = 0.32\n\n# Calculate metrics for each threshold\nfor threshold in thresholds:\n    approved_users = card_data[card_data['risk_model_score'] >= threshold]\n    approval_rate = len(approved_users) / len(card_data)\n    default_rate = approved_users['12mth_default'].mean()\n    \n    # Calculate revenue per user\n    avg_credit_limit = approved_users['credit_limit'].mean()\n    subscription_revenue = 50\n    interest_revenue = avg_credit_limit * interest_rate * (1 - default_rate)  # interest only from non-defaulters\n    total_revenue = subscription_revenue + interest_revenue\n    expected_revenue_per_user.append(total_revenue)\n    \n    # Store approval and default rates\n    approval_rates.append(approval_rate)\n    default_rates.append(default_rate)\n\n# Create a DataFrame to display and analyze\nstrategy_df = pd.DataFrame({\n    'Threshold': thresholds,\n    'Approval Rate': approval_rates,\n    'Default Rate': default_rates,\n    'Expected Revenue per User': expected_revenue_per_user\n})",
      "metadata": {
        "trusted": true
      },
      "outputs": [],
      "execution_count": 5
    },
    {
      "cell_type": "code",
      "source": "strategy_df",
      "metadata": {
        "trusted": true
      },
      "outputs": [
        {
          "execution_count": 6,
          "output_type": "execute_result",
          "data": {
            "text/plain": "    Threshold  Approval Rate  Default Rate  Expected Revenue per User\n0        0.30        1.00000      0.637080                  80.929378\n1        0.35        0.92246      0.624244                  81.993439\n2        0.40        0.84650      0.604300                  83.661785\n3        0.45        0.76884      0.575959                  86.060618\n4        0.50        0.69252      0.550569                  88.230170\n5        0.55        0.61604      0.521265                  90.625935\n6        0.60        0.54096      0.494269                  92.841556\n7        0.65        0.46450      0.470915                  94.894659\n8        0.70        0.38612      0.435668                  97.907857\n9        0.75        0.30806      0.396416                 101.357008\n10       0.80        0.23020      0.345439                 105.707883\n11       0.85        0.15292      0.284986                 110.741248\n12       0.90        0.07718      0.210935                 117.145935",
            "text/html": "<div>\n<style scoped>\n    .dataframe tbody tr th:only-of-type {\n        vertical-align: middle;\n    }\n\n    .dataframe tbody tr th {\n        vertical-align: top;\n    }\n\n    .dataframe thead th {\n        text-align: right;\n    }\n</style>\n<table border=\"1\" class=\"dataframe\">\n  <thead>\n    <tr style=\"text-align: right;\">\n      <th></th>\n      <th>Threshold</th>\n      <th>Approval Rate</th>\n      <th>Default Rate</th>\n      <th>Expected Revenue per User</th>\n    </tr>\n  </thead>\n  <tbody>\n    <tr>\n      <th>0</th>\n      <td>0.30</td>\n      <td>1.00000</td>\n      <td>0.637080</td>\n      <td>80.929378</td>\n    </tr>\n    <tr>\n      <th>1</th>\n      <td>0.35</td>\n      <td>0.92246</td>\n      <td>0.624244</td>\n      <td>81.993439</td>\n    </tr>\n    <tr>\n      <th>2</th>\n      <td>0.40</td>\n      <td>0.84650</td>\n      <td>0.604300</td>\n      <td>83.661785</td>\n    </tr>\n    <tr>\n      <th>3</th>\n      <td>0.45</td>\n      <td>0.76884</td>\n      <td>0.575959</td>\n      <td>86.060618</td>\n    </tr>\n    <tr>\n      <th>4</th>\n      <td>0.50</td>\n      <td>0.69252</td>\n      <td>0.550569</td>\n      <td>88.230170</td>\n    </tr>\n    <tr>\n      <th>5</th>\n      <td>0.55</td>\n      <td>0.61604</td>\n      <td>0.521265</td>\n      <td>90.625935</td>\n    </tr>\n    <tr>\n      <th>6</th>\n      <td>0.60</td>\n      <td>0.54096</td>\n      <td>0.494269</td>\n      <td>92.841556</td>\n    </tr>\n    <tr>\n      <th>7</th>\n      <td>0.65</td>\n      <td>0.46450</td>\n      <td>0.470915</td>\n      <td>94.894659</td>\n    </tr>\n    <tr>\n      <th>8</th>\n      <td>0.70</td>\n      <td>0.38612</td>\n      <td>0.435668</td>\n      <td>97.907857</td>\n    </tr>\n    <tr>\n      <th>9</th>\n      <td>0.75</td>\n      <td>0.30806</td>\n      <td>0.396416</td>\n      <td>101.357008</td>\n    </tr>\n    <tr>\n      <th>10</th>\n      <td>0.80</td>\n      <td>0.23020</td>\n      <td>0.345439</td>\n      <td>105.707883</td>\n    </tr>\n    <tr>\n      <th>11</th>\n      <td>0.85</td>\n      <td>0.15292</td>\n      <td>0.284986</td>\n      <td>110.741248</td>\n    </tr>\n    <tr>\n      <th>12</th>\n      <td>0.90</td>\n      <td>0.07718</td>\n      <td>0.210935</td>\n      <td>117.145935</td>\n    </tr>\n  </tbody>\n</table>\n</div>"
          },
          "metadata": {}
        }
      ],
      "execution_count": 6
    },
    {
      "cell_type": "code",
      "source": "# Analyzing the threshold strategy data to find the threshold that maximizes expected revenue per user\n# while keeping a reasonable approval rate.\n\n# Setting a minimum acceptable approval rate, e.g., let's assume 50%\nmin_approval_rate = 0.5\n\n# Filter for thresholds that meet the minimum approval rate\nfiltered_df = strategy_df[strategy_df['Approval Rate'] >= min_approval_rate]\n\n# Find the row with the maximum expected revenue per user within the acceptable approval rate range\noptimal_threshold_row = filtered_df.loc[filtered_df['Expected Revenue per User'].idxmax()]\noptimal_threshold_row",
      "metadata": {
        "trusted": true
      },
      "outputs": [
        {
          "execution_count": 7,
          "output_type": "execute_result",
          "data": {
            "text/plain": "Threshold                     0.600000\nApproval Rate                 0.540960\nDefault Rate                  0.494269\nExpected Revenue per User    92.841556\nName: 6, dtype: float64"
          },
          "metadata": {}
        }
      ],
      "execution_count": 7
    },
    {
      "cell_type": "code",
      "source": "",
      "metadata": {
        "trusted": true
      },
      "outputs": [],
      "execution_count": null
    }
  ]
}